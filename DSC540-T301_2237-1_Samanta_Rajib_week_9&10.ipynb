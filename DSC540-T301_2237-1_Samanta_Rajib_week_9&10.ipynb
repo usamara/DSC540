{
 "cells": [
  {
   "cell_type": "code",
   "execution_count": 64,
   "id": "4d44d6ab",
   "metadata": {},
   "outputs": [],
   "source": [
    "# Class : DSC540-T301 Data Preparation (2237-1)\n",
    "# Name : Rajib Samanta\n",
    "# Assignment : Week 9 & 10 Excercises\n",
    "## Assignment :  Data Wrangling with Python: Activity 11, page 320\n",
    "## Activity 11: Retrieving Data Correctly From Databases\n",
    "\n",
    "import numpy as np\n",
    "import pandas as pd\n"
   ]
  },
  {
   "cell_type": "code",
   "execution_count": 65,
   "id": "01ef37b6",
   "metadata": {},
   "outputs": [],
   "source": [
    "# Connect to the supplied petsDB database\n",
    "\n",
    "import sqlite3\n",
    "conn = sqlite3.connect(\"petsdb_rajib\")"
   ]
  },
  {
   "cell_type": "code",
   "execution_count": 66,
   "id": "d3540fc4",
   "metadata": {},
   "outputs": [
    {
     "name": "stdout",
     "output_type": "stream",
     "text": [
      "True\n"
     ]
    }
   ],
   "source": [
    "## Function to check if the connection can be establish or not\n",
    "def is_opened(conn):\n",
    "    try:        \n",
    "        conn.execute(\"SELECT * FROM persons LIMIT 1\")        \n",
    "        return True    \n",
    "    except sqlite3.ProgrammingError as e:\n",
    "        print(\"Connection closed {}\".format(e))        \n",
    "        return False \n",
    "print(is_opened(conn))\n",
    "conn.close() ## Close the connection\n"
   ]
  },
  {
   "cell_type": "code",
   "execution_count": 67,
   "id": "c427aabd",
   "metadata": {},
   "outputs": [
    {
     "name": "stdout",
     "output_type": "stream",
     "text": [
      "Column Names: ['id', 'first_name', 'last_name', 'age', 'city', 'zip_code']\n",
      "Row Values: (1, 'Erica', None, 22, 'south port', 2345678)\n",
      "Row Values: (2, 'Jordi', None, 73, 'east port', 123456)\n",
      "Row Values: (3, 'Chasity', None, 70, 'new port', 76856785)\n",
      "Row Values: (4, 'Gregg', None, 31, 'new port', 76856785)\n",
      "Row Values: (5, 'Tony', 'Lindgren', 7, 'west port', 2345678)\n",
      "Row Values: (6, 'Cary', None, 73, 'new port', 76856785)\n",
      "Row Values: (7, 'Gabe', 'Thompson', 54, 'new port', 9756543)\n",
      "Row Values: (8, 'Francisca', None, 14, 'west port', 123456)\n",
      "Row Values: (9, 'Katelyn', 'Torphy', 49, 'east port', 9756543)\n",
      "Row Values: (10, 'Raleigh', None, 68, 'new port', 2345678)\n"
     ]
    }
   ],
   "source": [
    "conn = sqlite3.connect(\"petsdb_rajib\") # Setup new connection for Database query\n",
    "c = conn.cursor()\n",
    "\n",
    "# Execute a query to fetch all rows from the table\n",
    "c.execute(f\"SELECT * FROM persons LIMIT 10\")\n",
    "\n",
    "# Fetch the column names from the cursor description\n",
    "column_names = [description[0] for description in c.description]\n",
    "\n",
    "# Fetch all rows from the query result\n",
    "rows = c.fetchall()\n",
    "\n",
    "# Print column names\n",
    "print(\"Column Names:\", column_names)\n",
    "\n",
    "# Print column values\n",
    "for row in rows:\n",
    "    print(\"Row Values:\", row)\n",
    "\n",
    "# Close the cursor and connection\n",
    "#cursor.close()"
   ]
  },
  {
   "cell_type": "code",
   "execution_count": 68,
   "id": "9e5f2268",
   "metadata": {},
   "outputs": [
    {
     "name": "stdout",
     "output_type": "stream",
     "text": [
      "  Age     Person Count \n",
      "------------------------------\n",
      "   2             5\n",
      "   1             6\n",
      "   1             7\n",
      "   3             8\n",
      "   1             9\n",
      "   2             11\n",
      "   3             12\n",
      "   1             13\n",
      "   4             14\n",
      "   2             16\n",
      "   2             17\n",
      "   3             18\n",
      "   1             19\n",
      "   3             22\n",
      "   2             23\n",
      "   3             24\n",
      "   2             25\n",
      "   1             27\n",
      "   1             30\n",
      "   3             31\n",
      "   1             32\n",
      "   1             33\n",
      "   2             34\n",
      "   3             35\n",
      "   3             36\n",
      "   1             37\n",
      "   2             39\n",
      "   1             40\n",
      "   1             42\n",
      "   2             44\n",
      "   2             48\n",
      "   1             49\n",
      "   1             50\n",
      "   2             51\n",
      "   2             52\n",
      "   2             53\n",
      "   2             54\n",
      "   1             58\n",
      "   1             59\n",
      "   1             60\n",
      "   1             61\n",
      "   2             62\n",
      "   1             63\n",
      "   2             65\n",
      "   2             66\n",
      "   1             67\n",
      "   3             68\n",
      "   1             69\n",
      "   1             70\n",
      "   4             71\n",
      "   1             72\n",
      "   5             73\n",
      "   3             74\n"
     ]
    }
   ],
   "source": [
    "# 2. Find out the different age groups are in the persons database.\n",
    "\n",
    "# select age and count using group by sql function\n",
    "print(\"  Age     Person Count \")\n",
    "print(\"------------------------------\")\n",
    "for ppl, age in c.execute(\"SELECT count(*), age FROM persons GROUP BY age\"):\n",
    "    print(\"   {}             {}\".format(ppl, age))\n",
    "\n"
   ]
  },
  {
   "cell_type": "code",
   "execution_count": 69,
   "id": "0a79675d",
   "metadata": {},
   "outputs": [
    {
     "name": "stdout",
     "output_type": "stream",
     "text": [
      "Highest number of people is 5 and came from 73 age group\n"
     ]
    }
   ],
   "source": [
    "# 3. find out which age group has the highest number of people\n",
    "\n",
    "## Use group by function with descending order and print only first row to get the highest row count\n",
    "for ppl, age in c.execute(    \"SELECT count(*), age FROM persons GROUP BY age ORDER BY count(*) DESC\"):\n",
    "    print(\"Highest number of people is {} and came from {} age group\".format(ppl, age))\n",
    "    break\n"
   ]
  },
  {
   "cell_type": "code",
   "execution_count": 70,
   "id": "5a7e5e32",
   "metadata": {},
   "outputs": [
    {
     "name": "stdout",
     "output_type": "stream",
     "text": [
      "No. of People dont have last Name is :  60\n"
     ]
    }
   ],
   "source": [
    "# 4. To find out how many people do not have a full name (the last name is blank/null)\n",
    "## Use group by function where last_name is null, it will return only single row\n",
    "for p_count in c.execute(    \"SELECT count(*) FROM persons where last_name IS null\"):\n",
    "    print(\"No. of People dont have last Name is :  \" + str(p_count[0])) # first value\n",
    "    break\n",
    "          "
   ]
  },
  {
   "cell_type": "code",
   "execution_count": 71,
   "id": "58ced737",
   "metadata": {},
   "outputs": [
    {
     "name": "stdout",
     "output_type": "stream",
     "text": [
      "Column Names: ['owner_id', 'pet_name', 'pet_type', 'treatment_done']\n",
      "Row Values: (57, 'mani', 1.0, 0)\n",
      "Row Values: (80, 'tamari', None, 0)\n",
      "Row Values: (25, 'raba', None, 0)\n",
      "Row Values: (27, 'olga', None, 0)\n",
      "Row Values: (60, 'raba', None, 0)\n",
      "Row Values: (37, 'dara', 1.0, 0)\n",
      "Row Values: (33, 'chegal', 1.0, 0)\n",
      "Row Values: (16, 'dara', None, 0)\n",
      "Row Values: (100, 'chegal', None, 0)\n",
      "Row Values: (46, 'raba', None, 1)\n"
     ]
    }
   ],
   "source": [
    "## Explore pet table\n",
    "# Execute a query to fetch all rows from the table\n",
    "c.execute(f\"SELECT * FROM pets  LIMIT 10\")\n",
    "\n",
    "# Fetch the column names from the cursor description\n",
    "column_names = [description[0] for description in c.description]\n",
    "\n",
    "# Fetch all rows from the query result\n",
    "rows = c.fetchall()\n",
    "\n",
    "# Print column names\n",
    "print(\"Column Names:\", column_names)\n",
    "\n",
    "# Print column values\n",
    "for row in rows:\n",
    "    print(\"Row Values:\", row)\n",
    "\n",
    "# Close the cursor and connection\n",
    "#cursor.close()"
   ]
  },
  {
   "cell_type": "code",
   "execution_count": 72,
   "id": "88009cc4",
   "metadata": {},
   "outputs": [
    {
     "name": "stdout",
     "output_type": "stream",
     "text": [
      "No. of people who have more than one pet :  43\n"
     ]
    }
   ],
   "source": [
    "# 5 To find out how many people have more than one pet\n",
    "# use inline view for grouping and having clause\n",
    "c.execute(\"SELECT count(*) FROM (SELECT count(owner_id) FROM pets GROUP BY owner_id HAVING count(owner_id) >1)\")\n",
    "# Fetch the result using fetchone()Pet\n",
    "p_count = c.fetchone()[0]\n",
    "\n",
    "# Print the count\n",
    "print(\"No. of people who have more than one pet :  {}\".format(p_count))\n",
    "\n"
   ]
  },
  {
   "cell_type": "code",
   "execution_count": 73,
   "id": "81b50ecc",
   "metadata": {},
   "outputs": [
    {
     "name": "stdout",
     "output_type": "stream",
     "text": [
      "No. of Pet who have recived Treatment :  36\n"
     ]
    }
   ],
   "source": [
    "# 6. Find out how many Pets have recived Treatment\n",
    "# use where caluse ,treatment_done should not be 0\n",
    "c.execute(\"SELECT count(1) FROM pets where treatment_done >0\")\n",
    "# Fetch the result using fetchone()\n",
    "p_count = c.fetchone()[0]\n",
    "\n",
    "# Print the count\n",
    "print(\"No. of Pet who have recived Treatment :  {}\".format(p_count))"
   ]
  },
  {
   "cell_type": "code",
   "execution_count": 74,
   "id": "e8b0dcd4",
   "metadata": {},
   "outputs": [
    {
     "name": "stdout",
     "output_type": "stream",
     "text": [
      "No. of Pet who have recived Treatment and type is known :  16\n"
     ]
    }
   ],
   "source": [
    "# 7. Find out how many Pets have recived Treatment and type is known\n",
    "# use where caluse ,treatment_done should not be 0 and type is not null\n",
    "c.execute(\"SELECT count(1) FROM pets where treatment_done >0 and pet_type IS NOT null\")\n",
    "# Fetch the result using fetchone()\n",
    "p_count = c.fetchone()[0]\n",
    "\n",
    "# Print the count\n",
    "print(\"No. of Pet who have recived Treatment and type is known :  {}\".format(p_count))"
   ]
  },
  {
   "cell_type": "code",
   "execution_count": 75,
   "id": "bdf5690f",
   "metadata": {},
   "outputs": [
    {
     "name": "stdout",
     "output_type": "stream",
     "text": [
      "No. of Pets from city called 'east port' :  49\n"
     ]
    }
   ],
   "source": [
    "# 8. Find out how many Pets from city called 'east port'\n",
    "# use where caluse persons.city='east port' where person live, need to do inner join with person and pet table\n",
    "c.execute(\"SELECT count(*) FROM pets JOIN persons ON pets.owner_id = persons.id WHERE persons.city='east port'\")\n",
    "\n",
    "# Fetch the result using fetchone()\n",
    "p_count = c.fetchone()[0]\n",
    "\n",
    "# Print the count\n",
    "print(\"No. of Pets from city called 'east port' :  {}\".format(p_count))"
   ]
  },
  {
   "cell_type": "code",
   "execution_count": 76,
   "id": "3b8c63e8",
   "metadata": {},
   "outputs": [
    {
     "name": "stdout",
     "output_type": "stream",
     "text": [
      "No. of Pets from city called 'east port' and  recieved treatment:  11\n"
     ]
    }
   ],
   "source": [
    "# 9. Find out how many Pets from city called 'east port' and recieved treatment\n",
    "# use where caluse persons.city='east port' where person live, need to do inner join with person and pet table\n",
    "c.execute(\"SELECT count(*) FROM pets JOIN persons ON pets.owner_id = persons.id WHERE persons.city='east port' and pets.treatment_done >0\")\n",
    "\n",
    "# Fetch the result using fetchone()\n",
    "p_count = c.fetchone()[0]\n",
    "\n",
    "# Print the count\n",
    "print(\"No. of Pets from city called 'east port' and  recieved treatment:  {}\".format(p_count))"
   ]
  },
  {
   "cell_type": "code",
   "execution_count": 77,
   "id": "3fad6829",
   "metadata": {},
   "outputs": [],
   "source": [
    "conn.close() ## Close the connection"
   ]
  },
  {
   "cell_type": "code",
   "execution_count": null,
   "id": "145a33d4",
   "metadata": {},
   "outputs": [],
   "source": []
  }
 ],
 "metadata": {
  "kernelspec": {
   "display_name": "Python 3 (ipykernel)",
   "language": "python",
   "name": "python3"
  },
  "language_info": {
   "codemirror_mode": {
    "name": "ipython",
    "version": 3
   },
   "file_extension": ".py",
   "mimetype": "text/x-python",
   "name": "python",
   "nbconvert_exporter": "python",
   "pygments_lexer": "ipython3",
   "version": "3.9.12"
  }
 },
 "nbformat": 4,
 "nbformat_minor": 5
}
